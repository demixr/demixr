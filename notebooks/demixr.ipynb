{
  "nbformat": 4,
  "nbformat_minor": 0,
  "metadata": {
    "kernelspec": {
      "language": "python",
      "display_name": "Python 3",
      "name": "python3"
    },
    "language_info": {
      "name": "python",
      "version": "3.7.10",
      "mimetype": "text/x-python",
      "codemirror_mode": {
        "name": "ipython",
        "version": 3
      },
      "pygments_lexer": "ipython3",
      "nbconvert_exporter": "python",
      "file_extension": ".py"
    },
    "colab": {
      "name": "demixr-training.ipynb",
      "provenance": [],
      "collapsed_sections": []
    },
    "accelerator": "GPU"
  },
  "cells": [
    {
      "cell_type": "code",
      "metadata": {
        "id": "y3YlkqXAWzEg"
      },
      "source": [
        "BRANCH = 'example-branch'"
      ],
      "execution_count": null,
      "outputs": []
    },
    {
      "cell_type": "code",
      "metadata": {
        "_uuid": "bec300a6-cbd6-495a-b65b-66015bc8aab6",
        "_cell_guid": "a8735cef-2bf2-4e85-8474-1632d4441060",
        "jupyter": {
          "outputs_hidden": false
        },
        "execution": {
          "iopub.status.busy": "2021-11-12T12:44:35.947168Z",
          "iopub.execute_input": "2021-11-12T12:44:35.947985Z",
          "iopub.status.idle": "2021-11-12T12:44:35.967334Z",
          "shell.execute_reply.started": "2021-11-12T12:44:35.947855Z",
          "shell.execute_reply": "2021-11-12T12:44:35.966635Z"
        },
        "trusted": true,
        "id": "9YrC67w5O7C_"
      },
      "source": [
        "import os"
      ],
      "execution_count": null,
      "outputs": []
    },
    {
      "cell_type": "code",
      "metadata": {
        "_uuid": "bab593a1-4ba2-4edb-af54-eddce18a8195",
        "_cell_guid": "e2417ae4-0a2c-4eee-982e-5b3219a0462d",
        "jupyter": {
          "outputs_hidden": false
        },
        "execution": {
          "iopub.status.busy": "2021-11-12T12:44:36.837339Z",
          "iopub.execute_input": "2021-11-12T12:44:36.837870Z",
          "iopub.status.idle": "2021-11-12T12:44:38.423036Z",
          "shell.execute_reply.started": "2021-11-12T12:44:36.837832Z",
          "shell.execute_reply": "2021-11-12T12:44:38.422260Z"
        },
        "trusted": true,
        "id": "B8L45yOuO7DJ"
      },
      "source": [
        "!git clone https://github.com/demixr/demixr.git"
      ],
      "execution_count": null,
      "outputs": []
    },
    {
      "cell_type": "code",
      "metadata": {
        "id": "GMt2mIJjP1IO"
      },
      "source": [
        "os.chdir('demixr')"
      ],
      "execution_count": null,
      "outputs": []
    },
    {
      "cell_type": "code",
      "metadata": {
        "_uuid": "569df357-6d88-4d12-917b-af1f76f2311d",
        "_cell_guid": "b5f3c642-4f1a-479a-b62b-e2d4860186d0",
        "jupyter": {
          "outputs_hidden": false
        },
        "execution": {
          "iopub.status.busy": "2021-11-12T12:44:38.425567Z",
          "iopub.execute_input": "2021-11-12T12:44:38.425882Z",
          "iopub.status.idle": "2021-11-12T12:44:39.112911Z",
          "shell.execute_reply.started": "2021-11-12T12:44:38.425845Z",
          "shell.execute_reply": "2021-11-12T12:44:39.112090Z"
        },
        "trusted": true,
        "id": "KiAL7oOmO7DL"
      },
      "source": [
        "!git checkout BRANCH"
      ],
      "execution_count": null,
      "outputs": []
    },
    {
      "cell_type": "code",
      "metadata": {
        "execution": {
          "iopub.status.busy": "2021-11-12T12:54:25.177688Z",
          "iopub.execute_input": "2021-11-12T12:54:25.178772Z",
          "iopub.status.idle": "2021-11-12T12:54:26.387996Z",
          "shell.execute_reply.started": "2021-11-12T12:54:25.178704Z",
          "shell.execute_reply": "2021-11-12T12:54:26.387132Z"
        },
        "trusted": true,
        "id": "e3bqUsCTO7DL"
      },
      "source": [
        "!git pull"
      ],
      "execution_count": null,
      "outputs": []
    },
    {
      "cell_type": "code",
      "metadata": {
        "_uuid": "ac3252c8-26eb-4347-b9bf-b08e12b802cc",
        "_cell_guid": "f83140e5-d0b3-4e7e-abb3-4e2e1533a344",
        "jupyter": {
          "outputs_hidden": false
        },
        "execution": {
          "iopub.status.busy": "2021-11-12T12:54:31.119913Z",
          "iopub.execute_input": "2021-11-12T12:54:31.120192Z",
          "iopub.status.idle": "2021-11-12T12:55:54.658457Z",
          "shell.execute_reply.started": "2021-11-12T12:54:31.120158Z",
          "shell.execute_reply": "2021-11-12T12:55:54.657450Z"
        },
        "trusted": true,
        "id": "wW6uxCWlO7DN"
      },
      "source": [
        "!pip install -r requirements.txt"
      ],
      "execution_count": null,
      "outputs": []
    },
    {
      "cell_type": "code",
      "metadata": {
        "id": "sTR4kv0KTw9V"
      },
      "source": [
        "!python run.py trainer.gpus=1"
      ],
      "execution_count": null,
      "outputs": []
    }
  ]
}